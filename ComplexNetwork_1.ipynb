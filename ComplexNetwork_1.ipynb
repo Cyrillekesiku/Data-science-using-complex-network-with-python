{
 "cells": [
  {
   "source": [
    "\"\"\"\n",
    "@Cyrille KESIKU\n",
    "machine learning scientist\n",
    "cyrille.kesiku@aims-senegal.org\n",
    "cyrillekesiku@gmail.com\n",
    "https://www.linkedin.com/in/cyrille-kesiku-396100196/\n",
    "\n",
    "\"\"\""
   ],
   "cell_type": "code",
   "metadata": {},
   "execution_count": null,
   "outputs": []
  },
  {
   "cell_type": "markdown",
   "metadata": {},
   "source": [
    "# Introduction\n",
    "-------------------------------------------------------------\n",
    "In this work we will perform some basic calculations and the exploration and analysis of a complex network. The world we live in is composed of objects. To a certain extent we can study the link between objects of the same or different nature based on a given phenomenon. The analysis of a complex network makes it possible to study the behaviour of objects, their interaction or not and other measures that can lead to a better conclusion for the right decision, which is the main interest of this field."
   ]
  },
  {
   "cell_type": "code",
   "execution_count": 2,
   "metadata": {},
   "outputs": [],
   "source": [
    "# import of the necessary libraries \n",
    "import networkx as nx\n",
    "import numpy as np \n",
    "import matplotlib.pyplot as plt "
   ]
  },
  {
   "cell_type": "markdown",
   "metadata": {},
   "source": [
    "-----------------------------------------------------------------------------------\n",
    "\n",
    "# 1. Graph G1 computation\n",
    "\n",
    "This first graph is undirected with 7 nodes and 8 vertices. \n",
    "\n",
    "-----------------------------------------------------------------------------------"
   ]
  },
  {
   "cell_type": "code",
   "execution_count": 3,
   "metadata": {},
   "outputs": [
    {
     "data": {
      "text/plain": [
       "[]"
      ]
     },
     "execution_count": 3,
     "metadata": {},
     "output_type": "execute_result"
    },
    {
     "data": {
      "image/png": "[encoded data removed]",
      "text/plain": [
       "<Figure size 432x288 with 1 Axes>"
      ]
     },
     "metadata": {},
     "output_type": "display_data"
    }
   ],
   "source": [
    "# Exploration of our first graph\n",
    "G1=nx.Graph()\n",
    "G1.add_edges_from([(1,2),(1,3),(2,3),(2,4),(3,4),(4,7),(3,6),(5,1)])\n",
    "nx.draw(G1,with_labels = True)\n",
    "plt.plot()"
   ]
  },
  {
   "cell_type": "markdown",
   "metadata": {},
   "source": [
    "### a. The distance, eccentricity, radius, centre, Weiner index for each of the following network\n",
    "\n",
    "same formula :\n",
    "\n",
    "- $Eccentricity= Max \\{d(u,v)\\}$\n",
    "\n",
    "- $Weiner index= \\frac{1}{2} \\sum_{u}\\sum_{v}(u,v)$\n",
    "- $Radius = \\min_{u,v \\in V(G)} \\{d(u,v)\\}$"
   ]
  },
  {
   "cell_type": "markdown",
   "metadata": {},
   "source": [
    "#### a.1 The distance \n",
    "\n",
    "The distance in a graph is between two nodes a and b that form one or more paths. the distance calculation between these two nodes is done by first finding the shortest path among several that lead from a to b. then to do this for all nodes we will display the associated distance matrix."
   ]
  },
  {
   "cell_type": "code",
   "execution_count": 4,
   "metadata": {},
   "outputs": [
    {
     "data": {
      "text/plain": [
       "matrix([[0., 1., 1., 2., 3., 2., 1.],\n",
       "        [1., 0., 1., 1., 2., 2., 2.],\n",
       "        [1., 1., 0., 1., 2., 1., 2.],\n",
       "        [2., 1., 1., 0., 1., 2., 3.],\n",
       "        [3., 2., 2., 1., 0., 3., 4.],\n",
       "        [2., 2., 1., 2., 3., 0., 3.],\n",
       "        [1., 2., 2., 3., 4., 3., 0.]])"
      ]
     },
     "execution_count": 4,
     "metadata": {},
     "output_type": "execute_result"
    }
   ],
   "source": [
    "#Associated distance matrix\n",
    "distance=nx.floyd_warshall_numpy(G1,nodelist=None, weight='weight')\n",
    "distance"
   ]
  },
  {
   "cell_type": "markdown",
   "metadata": {},
   "source": [
    "#### a.2 eccentricity, radius, centre and Weiner_index "
   ]
  },
  {
   "cell_type": "code",
   "execution_count": 33,
   "metadata": {},
   "outputs": [
    {
     "name": "stdout",
     "output_type": "stream",
     "text": [
      "------------------------------------------------------------------------\n",
      "The Eccentricity or the max distance for each node is given  : {1: 3, 2: 2, 3: 2, 4: 3, 7: 4, 6: 3, 5: 4}\n",
      "The Radius  or the minimum eccentricity of nodes of G1 is : 2\n",
      "The Center  or centrals nodes of G1  are: [2, 3]\n",
      "The wiener_index  or the mean of de sum distance of nodes of G1 is  : 40.0\n"
     ]
    }
   ],
   "source": [
    "e=nx.eccentricity(G1)\n",
    "r=nx.radius(G1)\n",
    "c=nx.center(G1)\n",
    "w=nx.wiener_index(G1)\n",
    "print('------------------------------------------------------------------------')\n",
    "print('The Eccentricity or the max distance for each node is given  :',e)\n",
    "print('The Radius  or the minimum eccentricity of nodes of G1 is :',r)\n",
    "print('The Center  or centrals nodes of G1  are:',c)\n",
    "print('The wiener_index  or the mean of de sum distance of nodes of G1 is  :',w)"
   ]
  },
  {
   "cell_type": "code",
   "execution_count": 6,
   "metadata": {},
   "outputs": [
    {
     "name": "stdout",
     "output_type": "stream",
     "text": [
      "--------------------------------------\n",
      "The sum of distances of each node: [[10.]\n",
      " [ 9.]\n",
      " [ 8.]\n",
      " [10.]\n",
      " [15.]\n",
      " [13.]\n",
      " [15.]]\n",
      "--------------------------------------\n",
      "wiener_index of G1: 40.0\n"
     ]
    }
   ],
   "source": [
    "# A other way to code the wiener index of the graph\n",
    "ds=np.sum(distance,axis=1)\n",
    "dss=np.sum(ds)\n",
    "print('--------------------------------------')\n",
    "print('The sum of distances of each node:',ds)\n",
    "print('--------------------------------------')\n",
    "print('wiener_index of G1:',dss/2)"
   ]
  },
  {
   "cell_type": "markdown",
   "metadata": {},
   "source": [
    "### b. Computation of hamultonian and eulerien path of the graph G1"
   ]
  },
  {
   "cell_type": "markdown",
   "metadata": {},
   "source": [
    "We notice that this graph does not contain an eulian path because an eulian path is a path which runs all the graph passing only once vertex and whose source node is equal to the end.\n",
    "\n",
    "And we can't calculate the Hamultonian path in this graph because it's not directed "
   ]
  },
  {
   "cell_type": "code",
   "execution_count": 7,
   "metadata": {},
   "outputs": [
    {
     "name": "stdout",
     "output_type": "stream",
     "text": [
      "\n",
      "Sory Non Eulerien path Graph in G1\n"
     ]
    }
   ],
   "source": [
    "# Eulerien path\n",
    "eulerien=nx.has_eulerian_path(G1)\n",
    "if eulerien==True:\n",
    "    print('')\n",
    "    print('There is a Eulerien path Graph in G1')\n",
    "else:\n",
    "    print('')\n",
    "    print('Sory Non Eulerien path Graph in G1')"
   ]
  },
  {
   "cell_type": "markdown",
   "metadata": {},
   "source": [
    "### C.Computation of the clustering, global clustering, degree distribution, average path length of G1\n",
    "\n",
    "In clustering we want to see the transitivity between objects in a network. This is done by observing the number of possible triangles that there are in the network. "
   ]
  },
  {
   "cell_type": "code",
   "execution_count": 42,
   "metadata": {},
   "outputs": [
    {
     "name": "stdout",
     "output_type": "stream",
     "text": [
      "\n",
      "---------------This is the clustering of G1--------------------------------------------------------------\n",
      "\n",
      "Clustering: {1: 0.3333333333333333, 2: 0.6666666666666666, 3: 0.3333333333333333, 4: 0.3333333333333333, 7: 0, 6: 0, 5: 0}\n",
      "\n",
      "-----------Here is the Global clustering of G1-----------------------------------------------------------\n",
      "\n",
      "Global_clustering, or the probability of connectivity of network nodes is  0.4 that means 40.0 % of probability of connection\n"
     ]
    }
   ],
   "source": [
    "# clustering and global_clustering of G1\n",
    "\n",
    "clustering = nx.clustering(G1)\n",
    "global_clustering = nx.transitivity(G1)\n",
    "print('')\n",
    "print('---------------This is the clustering of G1--------------------------------------------------------------')\n",
    "print('')\n",
    "print('Clustering:',clustering)\n",
    "print('')\n",
    "print('-----------Here is the Global clustering of G1-----------------------------------------------------------')\n",
    "print('')\n",
    "print('Global_clustering, or the probability of connectivity of network nodes is ',global_clustering ,'that means', global_clustering*100,'% of probability of connection')"
   ]
  },
  {
   "cell_type": "code",
   "execution_count": 9,
   "metadata": {},
   "outputs": [
    {
     "data": {
      "image/png": "[encoded data removed]",
      "text/plain": [
       "<Figure size 432x288 with 2 Axes>"
      ]
     },
     "metadata": {
      "needs_background": "light"
     },
     "output_type": "display_data"
    }
   ],
   "source": [
    "#The degree Distribution of G1\n",
    "\n",
    "import collections\n",
    "ds = sorted([d for n, d in G1.degree()], reverse=True)  # this line is the degree sequence\n",
    "# the outpout of  degree_sequence\n",
    "dcount = collections.Counter(ds)\n",
    "deg, cnt = zip(*dcount.items())\n",
    "\n",
    "fig, ax = plt.subplots()\n",
    "plt.bar(deg, cnt, width=0.80, color='#01BDFE')\n",
    "\n",
    "plt.title(\"Degree Distribution Histogram\")\n",
    "plt.ylabel(\"The Count\")\n",
    "plt.xlabel(\"The Degree\")\n",
    "ax.set_xticks([d + 0.4 for d in deg])\n",
    "ax.set_xticklabels(deg)\n",
    "\n",
    "# draw graph in inset\n",
    "plt.axes([0.4, 0.4, 0.5, 0.5])\n",
    "Gcc = G1.subgraph(sorted(nx.connected_components(G1), key=len, reverse=True)[0])\n",
    "pos = nx.spring_layout(G1)\n",
    "plt.axis('off')\n",
    "nx.draw_networkx_nodes(G1, pos, node_size=20)\n",
    "nx.draw_networkx_edges(G1, pos, alpha=0.4)\n",
    "\n",
    "plt.show()"
   ]
  },
  {
   "cell_type": "markdown",
   "metadata": {},
   "source": [
    "----------------------------------------------------------------------------------------------------\n",
    "### Average path length of G is given by:\n",
    "\n",
    "$ a= \\sum_{s,t\\in V}(\\frac {d(s,t)}{n(n-1)})$"
   ]
  },
  {
   "cell_type": "code",
   "execution_count": 10,
   "metadata": {},
   "outputs": [
    {
     "name": "stdout",
     "output_type": "stream",
     "text": [
      "\n",
      "------- The Average path length of G1 is: 1.9047619047619047\n"
     ]
    }
   ],
   "source": [
    "# Average path length of G1\n",
    "av=nx.average_shortest_path_length (G1)\n",
    "print()\n",
    "print('------- The Average path length of G1 is:',av)"
   ]
  },
  {
   "cell_type": "markdown",
   "metadata": {},
   "source": [
    "------------------------------------------------------------------\n",
    "# 2.Graph G2 Implementation\n",
    "------------------------------------------------------------------"
   ]
  },
  {
   "cell_type": "code",
   "execution_count": 11,
   "metadata": {},
   "outputs": [
    {
     "data": {
      "text/plain": [
       "[]"
      ]
     },
     "execution_count": 11,
     "metadata": {},
     "output_type": "execute_result"
    },
    {
     "data": {
      "image/png": "[encoded data removed]",
      "text/plain": [
       "<Figure size 432x288 with 1 Axes>"
      ]
     },
     "metadata": {},
     "output_type": "display_data"
    }
   ],
   "source": [
    "# ploting our graph G2\n",
    "G2=nx.DiGraph()\n",
    "G2.add_edges_from([(1,3),(1,2),(1,4),(4,3),(4,5),(5,1),(5,3),(5,4),(5,6),(6,5),(3,2)])\n",
    "nx.draw_networkx(G2, with_label = True, node_color ='#01BDFE') \n",
    "plt.plot()"
   ]
  },
  {
   "cell_type": "markdown",
   "metadata": {},
   "source": [
    "### a. The distance, eccentricity, radius, centre, Weiner index for each of the following network\n",
    "$Eccentricity = Max \\{d(u,v)\\}$"
   ]
  },
  {
   "cell_type": "code",
   "execution_count": 12,
   "metadata": {},
   "outputs": [
    {
     "data": {
      "text/plain": [
       "matrix([[ 0.,  1.,  1.,  1.,  2.,  3.],\n",
       "        [inf,  0.,  1., inf, inf, inf],\n",
       "        [inf, inf,  0., inf, inf, inf],\n",
       "        [ 2.,  1.,  2.,  0.,  1.,  2.],\n",
       "        [ 1.,  1.,  2.,  1.,  0.,  1.],\n",
       "        [ 2.,  2.,  3.,  2.,  1.,  0.]])"
      ]
     },
     "execution_count": 12,
     "metadata": {},
     "output_type": "execute_result"
    }
   ],
   "source": [
    "#distance\n",
    "distance=nx.floyd_warshall_numpy(G2,nodelist=None, weight='weight')\n",
    "distance"
   ]
  },
  {
   "cell_type": "markdown",
   "metadata": {},
   "source": [
    "\n",
    "------------------------------------------------------------------------------------------------\n",
    "In this case the graph is not strongly connected, there are infinite distances between some nodes which makes the maximum distance infinite, no way to calculate the center, the eccentricity , the radius and wiener_index ."
   ]
  },
  {
   "cell_type": "code",
   "execution_count": 43,
   "metadata": {},
   "outputs": [
    {
     "name": "stdout",
     "output_type": "stream",
     "text": [
      "------------------------------------------------------------------------\n",
      "The wiener_index of G2 : inf\n"
     ]
    }
   ],
   "source": [
    "#Found infinite path length because the digraph is not strongly connected\n",
    "\n",
    "#e=nx.eccentricity(G2)\n",
    "#r=nx.radius(G2)\n",
    "#c=nx.center(G2)\n",
    "w=nx.wiener_index(G2)\n",
    "print('------------------------------------------------------------------------')\n",
    "#print('The Eccentricity of G2 :',e)\n",
    "#print('The Radius of G2 :',r)\n",
    "#print('The Center of G2 :',c)\n",
    "print('The wiener_index of G2 :',w)"
   ]
  },
  {
   "cell_type": "markdown",
   "metadata": {},
   "source": [
    "### b. Computation of hamultonian and eulerien path of the graph G2"
   ]
  },
  {
   "cell_type": "code",
   "execution_count": 14,
   "metadata": {},
   "outputs": [
    {
     "name": "stdout",
     "output_type": "stream",
     "text": [
      "\n",
      "Sory Non Eulerien path Graph in G2\n"
     ]
    }
   ],
   "source": [
    "# Eulerien path\n",
    "eulerien=nx.has_eulerian_path(G2)\n",
    "if eulerien==True:\n",
    "    print('')\n",
    "    print('There is a Eulerien path Graph in G2')\n",
    "else:\n",
    "    print('')\n",
    "    print('Sory Non Eulerien path Graph in G2')"
   ]
  },
  {
   "cell_type": "code",
   "execution_count": 15,
   "metadata": {},
   "outputs": [
    {
     "name": "stdout",
     "output_type": "stream",
     "text": [
      "------------------------------------------------\n",
      "The hamiltonian_path of G2 is: [1, 3, 2, 4, 6, 5]\n"
     ]
    }
   ],
   "source": [
    "# Hamiltonian_path\n",
    "from networkx.algorithms import tournament\n",
    "hl=tournament.hamiltonian_path(G2)\n",
    "print('------------------------------------------------')\n",
    "print('The hamiltonian_path of G2 is:',hl)"
   ]
  },
  {
   "cell_type": "markdown",
   "metadata": {},
   "source": [
    "we can see that networkx sends us back a hamultonian path but that is not true because looking at the graph going from node 1,3, and 2 we can't go through node 4,6 and 5 because node 2 is a final node that has no possibility to continue to go through the continuation of the path to node 4,6 and 5. so no hamultonian path in this graph. "
   ]
  },
  {
   "cell_type": "markdown",
   "metadata": {},
   "source": [
    "### C.Computation of the clustering, global clustering, degree distribution, average path length of G2"
   ]
  },
  {
   "cell_type": "markdown",
   "metadata": {},
   "source": [
    "----------------------------------------------------------------------\n",
    "#### clustering and global_clustering of G2\n"
   ]
  },
  {
   "cell_type": "code",
   "execution_count": 44,
   "metadata": {},
   "outputs": [
    {
     "name": "stdout",
     "output_type": "stream",
     "text": [
      "\n",
      "---------------This is the clustering of G2--------------------------------------------------------------\n",
      "\n",
      "Clustering: {1: 0.4166666666666667, 3: 0.4166666666666667, 2: 0.5, 4: 0.5, 5: 0.19230769230769232, 6: 0}\n",
      "\n",
      "-----------Here is the Global clustering of G2-----------------------------------------------------------\n",
      "\n",
      "Global_clustering, or the probability of connectivity of network nodes is  0.3 that means 30.0 % of probability of connection\n"
     ]
    }
   ],
   "source": [
    "# clustering and global_clustering of G2\n",
    "\n",
    "clustering = nx.clustering(G2)\n",
    "global_clustering = nx.transitivity(G2)\n",
    "print('')\n",
    "print('---------------This is the clustering of G2--------------------------------------------------------------')\n",
    "print('')\n",
    "print('Clustering:',clustering)\n",
    "print('')\n",
    "print('-----------Here is the Global clustering of G2-----------------------------------------------------------')\n",
    "print('')\n",
    "print('Global_clustering, or the probability of connectivity of network nodes is ',global_clustering ,'that means', global_clustering*100,'% of probability of connection')"
   ]
  },
  {
   "cell_type": "markdown",
   "metadata": {},
   "source": [
    "#### The degree Distribution of G2\n"
   ]
  },
  {
   "cell_type": "code",
   "execution_count": 28,
   "metadata": {},
   "outputs": [
    {
     "data": {
      "image/png": "[encoded data removed]",
      "text/plain": [
       "<Figure size 432x288 with 1 Axes>"
      ]
     },
     "metadata": {
      "needs_background": "light"
     },
     "output_type": "display_data"
    }
   ],
   "source": [
    "dd=nx.degree_histogram(G2)\n",
    "plt.bar(deg, cnt, width=0.80, color='#01CCCC')\n",
    "plt.show()\n"
   ]
  },
  {
   "cell_type": "markdown",
   "metadata": {},
   "source": [
    "----------------------------------------------------------------------------------------------------\n",
    "### Average path length of G is given by:\n",
    "\n",
    "$ a= \\sum_{s,t\\in V}(\\frac {d(s,t)}{n(n-1)})$"
   ]
  },
  {
   "cell_type": "code",
   "execution_count": 18,
   "metadata": {},
   "outputs": [
    {
     "name": "stdout",
     "output_type": "stream",
     "text": [
      "\n",
      "------- The Average path length of G1 is: 1.1\n"
     ]
    }
   ],
   "source": [
    "# Average path length of G1\n",
    "av=nx.average_shortest_path_length (G2)\n",
    "print()\n",
    "print('------- The Average path length of G1 is:',av)"
   ]
  },
  {
   "cell_type": "markdown",
   "metadata": {},
   "source": [
    "# Conclusion \n",
    "-----------------------------------------------------"
   ]
  },
  {
   "cell_type": "markdown",
   "metadata": {},
   "source": [
    "As we said in our introduction, the connection of objects in the universe for a given context can summarize many situations and give us a better idea during an analysis. this python code exercise is very interesting, because it allows us to familiarize ourselves with the numerical construction of a graph or a network with the dedicated library named Networkx. with this library we can play well with graphs. But also other libraries like matplotlib for visualization and numpy for matrix calculation."
   ]
  },
  {
   "cell_type": "code",
   "execution_count": null,
   "metadata": {},
   "outputs": [],
   "source": []
  }
 ],
 "metadata": {
  "file_extension": ".py",
  "kernelspec": {
   "display_name": "Python 3",
   "language": "python",
   "name": "python3"
  },
  "language_info": {
   "codemirror_mode": {
    "name": "ipython",
    "version": 3
   },
   "file_extension": ".py",
   "mimetype": "text/x-python",
   "name": "python",
   "nbconvert_exporter": "python",
   "pygments_lexer": "ipython3",
   "version": "3.7.3"
  },
  "mimetype": "text/x-python",
  "name": "python",
  "npconvert_exporter": "python",
  "pygments_lexer": "ipython3",
  "version": 3
 },
 "nbformat": 4,
 "nbformat_minor": 2
}